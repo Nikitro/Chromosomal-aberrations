{
 "cells": [
  {
   "cell_type": "code",
   "execution_count": null,
   "metadata": {
    "collapsed": true,
    "deletable": true,
    "editable": true
   },
   "outputs": [],
   "source": [
    "print a[::-1]"
   ]
  },
  {
   "cell_type": "code",
   "execution_count": 9,
   "metadata": {
    "collapsed": true,
    "deletable": true,
    "editable": true
   },
   "outputs": [],
   "source": [
    "f_name=('/home/nikita/Projects/Chromosomal_aberrations/data/genome/Caulobacter_crescentus/Caulobacter_NA1000.fa')"
   ]
  },
  {
   "cell_type": "code",
   "execution_count": 10,
   "metadata": {
    "collapsed": true,
    "deletable": true,
    "editable": true
   },
   "outputs": [],
   "source": [
    "seq=\"\""
   ]
  },
  {
   "cell_type": "code",
   "execution_count": 11,
   "metadata": {
    "collapsed": false,
    "deletable": true,
    "editable": true
   },
   "outputs": [],
   "source": [
    "for line in open (f_name):\n",
    "    if line.startswith(\">\"):\n",
    "        continue\n",
    "    seq+=line.strip()"
   ]
  },
  {
   "cell_type": "code",
   "execution_count": 5,
   "metadata": {
    "collapsed": false,
    "deletable": true,
    "editable": true
   },
   "outputs": [
    {
     "name": "stdout",
     "output_type": "stream",
     "text": [
      "4042929\n"
     ]
    }
   ],
   "source": [
    "print len(seq)"
   ]
  },
  {
   "cell_type": "code",
   "execution_count": 18,
   "metadata": {
    "collapsed": false,
    "deletable": true,
    "editable": true
   },
   "outputs": [
    {
     "name": "stdout",
     "output_type": "stream",
     "text": [
      "GAATTCTTAACGTCCTGAGACACGACAGCGACCTCTGACCGGACTCGTTCCGCGTCTTTGGACAATCGGGATTCAGACTTCGGGGGATGCGGCGCAGGCTTGGGGATGATAGGCGAGCAATGCGACCGTTGATCACAGCGGCGCCGTGTCACGACGCTGTTGGGGCCGTTCGGCGCCCGGGCGTCCCCAGAGGCAGGGCAAGTGGTTAAGCAACCGTTAACGGATGATCCACAGGAGAGTCTGGCGCAGGGCGAGAGCGAAAGGCTGCCGCCACGCTTCGCCACCTACTTCCATATCCACTTGGTTTCAGACTCCACAGGCGAGACGCTGAACGCGATGGCGCGGGCGGTGTGCGCGCGGTTCACCGACATTCTGCCGATCGAGCACATCTATGCGCTGGTGCGGTCGACCCGGCAGTTGGATCGCGCGTTGGAAGAGATCGCCGGTGCGCCGGGCGTGGTGATGCACACGATCGTTGACCCTGGCCTCCGCGCAGCCCTCGAGGAAGGCTGCCGCAAGCTGGAAATGCCCTGCATCGCCGCGCTGGATCCGGTGATCAGCGCCATGTCCCGTTATCTGGGCGCGCGGATCTCGACCCGCGTCGGCGCCCAGCACGCCCTGACCAATGACTATTTCGATCGTATCGAAGCCCTGGACTACGCCATCGCCCACGATGACGGCCAGGGCGGACAGGATCTGACCCAGGCCGACGTCATCCTGGTGGGCGTGTCGCGGACCTCCAAAACCCCGACCTGCATCTATCTGGCGCATCGGGGCGTGCGCGCCGCCAATGTACCGTTGGTCCCAGGCCGCCCGCCGCCCCCTGAGCTGTTCGAGCTGAAGAACACCTTGATCGTCGGCCTGATCACCTCGCCGGATCGGTTGATCCAGATCCGCCGCAATCGCCTGCTCTCTCTGAAAGAGAACCGCGAGAGCGACTATGTCGACGCCGACGCGGTGCGTCAGGAGATCATCGCTGCGCGCCGCCTGTTCGAGCGCC\n"
     ]
    }
   ],
   "source": [
    "print seq[0:1000]"
   ]
  },
  {
   "cell_type": "code",
   "execution_count": 90,
   "metadata": {
    "collapsed": true,
    "deletable": true,
    "editable": true
   },
   "outputs": [],
   "source": [
    "seq_trans=seq[0:500000]+seq[550000:2000000]+seq[500000:550000]+seq[2000000:]"
   ]
  },
  {
   "cell_type": "code",
   "execution_count": 15,
   "metadata": {
    "collapsed": false,
    "deletable": true,
    "editable": true
   },
   "outputs": [],
   "source": [
    "seq_del=seq[0:500000]+seq[600000:2000000]+seq[2000000:]"
   ]
  },
  {
   "cell_type": "code",
   "execution_count": 12,
   "metadata": {
    "collapsed": true,
    "deletable": true,
    "editable": true
   },
   "outputs": [],
   "source": [
    "seq_dupl=seq[0:500000]+seq[500000:550000]+seq[500000:550000]+seq[550000:]"
   ]
  },
  {
   "cell_type": "code",
   "execution_count": 88,
   "metadata": {
    "collapsed": false,
    "deletable": true,
    "editable": true
   },
   "outputs": [
    {
     "name": "stdout",
     "output_type": "stream",
     "text": [
      "4042929\n"
     ]
    }
   ],
   "source": [
    "print len(seq)"
   ]
  },
  {
   "cell_type": "code",
   "execution_count": 50,
   "metadata": {
    "collapsed": false,
    "deletable": true,
    "editable": true
   },
   "outputs": [
    {
     "name": "stdout",
     "output_type": "stream",
     "text": [
      "4042929\n"
     ]
    }
   ],
   "source": [
    "print len(seq_trans)"
   ]
  },
  {
   "cell_type": "code",
   "execution_count": 81,
   "metadata": {
    "collapsed": true,
    "deletable": true,
    "editable": true
   },
   "outputs": [],
   "source": [
    "complement = {'A': 'T', 'C': 'G', 'G': 'C', 'T': 'A'}\n",
    "seq_inversion = seq\n",
    "reverse_complement = \"\".join(complement.get(base) for base in reversed(seq_inversion[1000000:1500000]))"
   ]
  },
  {
   "cell_type": "code",
   "execution_count": 82,
   "metadata": {
    "collapsed": true,
    "deletable": true,
    "editable": true
   },
   "outputs": [],
   "source": [
    "seq_inversion_complete=seq[0:1000000]+reverse_complement+seq[1500000:]"
   ]
  },
  {
   "cell_type": "code",
   "execution_count": 83,
   "metadata": {
    "collapsed": false,
    "deletable": true,
    "editable": true
   },
   "outputs": [
    {
     "name": "stdout",
     "output_type": "stream",
     "text": [
      "TCTGCTTCATCATTGACCGCGCCAAGGACATGCTGATCCGGGGCGGCGAGAACATCTACTGCATCGAGGTCGAGAACTGCCTCTATGACCACCCGGCGGT\n"
     ]
    }
   ],
   "source": [
    "print seq[1500000-100:1500000]"
   ]
  },
  {
   "cell_type": "code",
   "execution_count": 84,
   "metadata": {
    "collapsed": false,
    "deletable": true,
    "editable": true
   },
   "outputs": [
    {
     "name": "stdout",
     "output_type": "stream",
     "text": [
      "ACCGCCGGGTGGTCATAGAGGCAGTTCTCGACCTCGATGCAGTAGATGTTCTCGCCGCCCCGGATCAGCATGTCCTTGGCGCGGTCAATGATGAAGCAGA\n"
     ]
    }
   ],
   "source": [
    "print seq_inversion_complete[1000000:1000100]"
   ]
  },
  {
   "cell_type": "code",
   "execution_count": 91,
   "metadata": {
    "collapsed": false,
    "deletable": true,
    "editable": true
   },
   "outputs": [],
   "source": [
    "out=open(\"Translo.fa\",\"w\")\n",
    "out.write(\">chr1\\n\")\n",
    "for i in range (0, len(seq_trans), 70):\n",
    "    out.write(seq_trans[i:i+70])\n",
    "    out.write(\"\\n\")\n",
    "out.close()"
   ]
  },
  {
   "cell_type": "code",
   "execution_count": 16,
   "metadata": {
    "collapsed": true,
    "deletable": true,
    "editable": true
   },
   "outputs": [],
   "source": [
    "out=open(\"Deletion2.fa\",\"w\")\n",
    "out.write(\">chr1\\n\")\n",
    "for i in range (0, len(seq_del), 70):\n",
    "    out.write(seq_del[i:i+70])\n",
    "    out.write(\"\\n\")\n",
    "out.close()"
   ]
  },
  {
   "cell_type": "code",
   "execution_count": 13,
   "metadata": {
    "collapsed": true,
    "deletable": true,
    "editable": true
   },
   "outputs": [],
   "source": [
    "out=open(\"Duplication.fa\",\"w\")\n",
    "out.write(\">chr1\\n\")\n",
    "for i in range (0, len(seq_dupl), 70):\n",
    "    out.write(seq_dupl[i:i+70])\n",
    "    out.write(\"\\n\")\n",
    "out.close()"
   ]
  },
  {
   "cell_type": "code",
   "execution_count": 29,
   "metadata": {
    "collapsed": false,
    "deletable": true,
    "editable": true
   },
   "outputs": [
    {
     "name": "stdout",
     "output_type": "stream",
     "text": [
      ">chr1\r\n",
      "GAATTCTTAACGTCCTGAGACACGACAGCGACCTCTGACCGGACTCGTTCCGCGTCTTTGGACAATCGGG\r\n",
      "ATTCAGACTTCGGGGGATGCGGCGCAGGCTTGGGGATGATAGGCGAGCAATGCGACCGTTGATCACAGCG\r\n",
      "GCGCCGTGTCACGACGCTGTTGGGGCCGTTCGGCGCCCGGGCGTCCCCAGAGGCAGGGCAAGTGGTTAAG\r\n",
      "CAACCGTTAACGGATGATCCACAGGAGAGTCTGGCGCAGGGCGAGAGCGAAAGGCTGCCGCCACGCTTCG\r\n",
      "CCACCTACTTCCATATCCACTTGGTTTCAGACTCCACAGGCGAGACGCTGAACGCGATGGCGCGGGCGGT\r\n",
      "GTGCGCGCGGTTCACCGACATTCTGCCGATCGAGCACATCTATGCGCTGGTGCGGTCGACCCGGCAGTTG\r\n",
      "GATCGCGCGTTGGAAGAGATCGCCGGTGCGCCGGGCGTGGTGATGCACACGATCGTTGACCCTGGCCTCC\r\n",
      "GCGCAGCCCTCGAGGAAGGCTGCCGCAAGCTGGAAATGCCCTGCATCGCCGCGCTGGATCCGGTGATCAG\r\n",
      "CGCCATGTCCCGTTATCTGGGCGCGCGGATCTCGACCCGCGTCGGCGCCCAGCACGCCCTGACCAATGAC\r\n"
     ]
    }
   ],
   "source": [
    "! head inversion.fasta"
   ]
  },
  {
   "cell_type": "code",
   "execution_count": 31,
   "metadata": {
    "collapsed": false,
    "deletable": true,
    "editable": true
   },
   "outputs": [
    {
     "data": {
      "text/plain": [
       "60"
      ]
     },
     "execution_count": 31,
     "metadata": {},
     "output_type": "execute_result"
    }
   ],
   "source": [
    "len(\"CGGGGCAAGGTCGAGGTCCTGGGATGAGCCTCACCCCTGTTACGCTCGCGTCCCAGAGCT\")\n"
   ]
  },
  {
   "cell_type": "code",
   "execution_count": 32,
   "metadata": {
    "collapsed": false,
    "deletable": true,
    "editable": true
   },
   "outputs": [
    {
     "data": {
      "text/plain": [
       "125940"
      ]
     },
     "execution_count": 32,
     "metadata": {},
     "output_type": "execute_result"
    }
   ],
   "source": [
    "2099*60"
   ]
  },
  {
   "cell_type": "code",
   "execution_count": 33,
   "metadata": {
    "collapsed": false,
    "deletable": true,
    "editable": true
   },
   "outputs": [
    {
     "data": {
      "text/plain": [
       "4800"
      ]
     },
     "execution_count": 33,
     "metadata": {},
     "output_type": "execute_result"
    }
   ],
   "source": [
    "80*60"
   ]
  },
  {
   "cell_type": "code",
   "execution_count": 56,
   "metadata": {
    "collapsed": false,
    "deletable": true,
    "editable": true
   },
   "outputs": [],
   "source": [
    "seq_01 = \"ACGTCTAATG\"\n",
    "complement = {'A': 'T', 'C': 'G', 'G': 'C', 'T': 'A'}\n",
    "reverse_complement = \"\".join(complement.get(base, base) for base in reversed(seq_01[2:6]))\n",
    "\n"
   ]
  },
  {
   "cell_type": "code",
   "execution_count": 65,
   "metadata": {
    "collapsed": true,
    "deletable": true,
    "editable": true
   },
   "outputs": [],
   "source": [
    "seq_inv = seq_01[0:2]+reverse_complement+seq_01[6:]"
   ]
  },
  {
   "cell_type": "code",
   "execution_count": 68,
   "metadata": {
    "collapsed": false,
    "deletable": true,
    "editable": true,
    "scrolled": true
   },
   "outputs": [
    {
     "name": "stdout",
     "output_type": "stream",
     "text": [
      "GTCT\n"
     ]
    }
   ],
   "source": [
    "print seq_01[2:6]\n"
   ]
  },
  {
   "cell_type": "code",
   "execution_count": 67,
   "metadata": {
    "collapsed": false,
    "deletable": true,
    "editable": true
   },
   "outputs": [
    {
     "name": "stdout",
     "output_type": "stream",
     "text": [
      "AGAC\n"
     ]
    }
   ],
   "source": [
    "print seq_inv[2:6]"
   ]
  },
  {
   "cell_type": "code",
   "execution_count": 59,
   "metadata": {
    "collapsed": false,
    "deletable": true,
    "editable": true
   },
   "outputs": [
    {
     "name": "stdout",
     "output_type": "stream",
     "text": [
      "AGAC\n"
     ]
    }
   ],
   "source": [
    "print reverse_complement"
   ]
  },
  {
   "cell_type": "code",
   "execution_count": 14,
   "metadata": {
    "collapsed": false,
    "deletable": true,
    "editable": true
   },
   "outputs": [
    {
     "data": {
      "text/plain": [
       "u'/home/nikita/Notebook'"
      ]
     },
     "execution_count": 14,
     "metadata": {},
     "output_type": "execute_result"
    }
   ],
   "source": [
    "pwd"
   ]
  },
  {
   "cell_type": "code",
   "execution_count": null,
   "metadata": {
    "collapsed": true,
    "deletable": true,
    "editable": true
   },
   "outputs": [],
   "source": []
  }
 ],
 "metadata": {
  "kernelspec": {
   "display_name": "Python 2",
   "language": "python",
   "name": "python2"
  },
  "language_info": {
   "codemirror_mode": {
    "name": "ipython",
    "version": 2
   },
   "file_extension": ".py",
   "mimetype": "text/x-python",
   "name": "python",
   "nbconvert_exporter": "python",
   "pygments_lexer": "ipython2",
   "version": "2.7.13"
  }
 },
 "nbformat": 4,
 "nbformat_minor": 2
}
