{
 "cells": [
  {
   "cell_type": "markdown",
   "metadata": {
    "deletable": true,
    "editable": true
   },
   "source": [
    "## Load mapped reads"
   ]
  },
  {
   "cell_type": "code",
   "execution_count": 1,
   "metadata": {
    "collapsed": true,
    "deletable": true,
    "editable": true
   },
   "outputs": [],
   "source": [
    "reads ='/home/nikita/Projects/Chromosomal_aberrations/results_trans/Caulobacter_BglII_replicate1_trans/03_filtering/reads12.tsv'"
   ]
  },
  {
   "cell_type": "code",
   "execution_count": 2,
   "metadata": {
    "collapsed": false,
    "deletable": true,
    "editable": true
   },
   "outputs": [
    {
     "name": "stdout",
     "output_type": "stream",
     "text": [
      "# CRM chr1\t4042929\r\n",
      "SRR824843.3014662\tchr1\t1\t1\t40\t1\t15389\tchr1\t330\t0\t40\t1\t15389\r\n",
      "SRR824843.4002508\tchr1\t1\t1\t40\t1\t15389\tchr1\t330\t0\t40\t1\t15389\r\n",
      "SRR824843.8338706\tchr1\t100\t0\t40\t1\t15389\tchr1\t15455\t0\t40\t15389\t19394\r\n",
      "SRR824843.15318794\tchr1\t100\t0\t40\t1\t15389\tchr1\t171654\t1\t40\t169656\t171721\r\n",
      "SRR824843.15348487\tchr1\t100\t0\t40\t1\t15389\tchr1\t171654\t1\t40\t169656\t171721\r\n",
      "SRR824843.8498747\tchr1\t100\t0\t40\t1\t15389\tchr1\t1982855\t1\t40\t1975770\t1983059\r\n",
      "SRR824843.11299089#2/3\tchr1\t100\t0\t40\t1\t15389\tchr1\t28532\t0\t21\t28513\t32206\r\n",
      "SRR824843.6497376#2/3\tchr1\t100\t0\t40\t1\t15389\tchr1\t28532\t0\t21\t28513\t32206\r\n",
      "SRR824843.10694350\tchr1\t100\t0\t40\t1\t15389\tchr1\t286947\t0\t40\t286833\t291587\r\n",
      "SRR824843.3987019\tchr1\t100\t0\t40\t1\t15389\tchr1\t286947\t0\t40\t286833\t291587\r\n",
      "SRR824843.11060915\tchr1\t100\t0\t40\t1\t15389\tchr1\t33278\t1\t40\t32206\t33384\r\n",
      "SRR824843.9583439\tchr1\t100\t0\t40\t1\t15389\tchr1\t33278\t1\t40\t32206\t33384\r\n",
      "SRR824843.10385482\tchr1\t100\t0\t40\t1\t15389\tchr1\t3407508\t1\t40\t3402832\t3407563\r\n",
      "SRR824843.12041103\tchr1\t100\t0\t40\t1\t15389\tchr1\t35990\t1\t40\t33384\t36085\r\n",
      "SRR824843.16104837\tchr1\t100\t0\t40\t1\t15389\tchr1\t36308\t0\t40\t36085\t40825\r\n",
      "SRR824843.5614174\tchr1\t100\t0\t40\t1\t15389\tchr1\t3642652\t1\t40\t3636700\t3642765\r\n",
      "SRR824843.100010#2/3\tchr1\t100\t0\t40\t1\t15389\tchr1\t3642747\t1\t23\t3636700\t3642765\r\n",
      "SRR824843.9110970#2/3\tchr1\t100\t0\t40\t1\t15389\tchr1\t3642747\t1\t23\t3636700\t3642765\r\n",
      "SRR824843.11788564\tchr1\t100\t0\t40\t1\t15389\tchr1\t370557\t1\t27\t365145\t370579\r\n",
      "SRR824843.12484440\tchr1\t100\t0\t40\t1\t15389\tchr1\t3831546\t1\t40\t3823432\t3831597\r\n",
      "SRR824843.15778732\tchr1\t100\t0\t40\t1\t15389\tchr1\t3831546\t1\t40\t3823432\t3831597\r\n",
      "SRR824843.11711671\tchr1\t100\t0\t40\t1\t15389\tchr1\t3862272\t1\t36\t3861235\t3862303\r\n",
      "SRR824843.4525467\tchr1\t100\t0\t40\t1\t15389\tchr1\t3862272\t1\t36\t3861235\t3862303\r\n",
      "SRR824843.15388200\tchr1\t100\t0\t40\t1\t15389\tchr1\t3922440\t0\t40\t3922348\t3933051\r\n",
      "SRR824843.6457199\tchr1\t100\t0\t40\t1\t15389\tchr1\t3922440\t0\t40\t3922348\t3933051\r\n",
      "SRR824843.6180766\tchr1\t100\t0\t40\t1\t15389\tchr1\t3964983\t1\t40\t3960404\t3965039\r\n",
      "SRR824843.4802990\tchr1\t100\t0\t40\t1\t15389\tchr1\t4001269\t0\t40\t4001137\t4002582\r\n",
      "SRR824843.1774870\tchr1\t100\t0\t40\t1\t15389\tchr1\t4005725\t1\t40\t4002582\t4005854\r\n",
      "SRR824843.3185806\tchr1\t100\t0\t40\t1\t15389\tchr1\t4005725\t1\t40\t4002582\t4005854\r\n",
      "SRR824843.14536513\tchr1\t100\t0\t40\t1\t15389\tchr1\t4006566\t0\t32\t4006530\t4010161\r\n",
      "SRR824843.7239187\tchr1\t100\t0\t40\t1\t15389\tchr1\t4006608\t0\t40\t4006530\t4010161\r\n",
      "SRR824843.1824032\tchr1\t100\t0\t40\t1\t15389\tchr1\t4010218\t0\t40\t4010161\t4013783\r\n",
      "SRR824843.6409898\tchr1\t100\t0\t40\t1\t15389\tchr1\t4015583\t0\t40\t4015420\t4022778\r\n",
      "SRR824843.10924532\tchr1\t100\t0\t40\t1\t15389\tchr1\t4022729\t1\t40\t4015420\t4022778\r\n",
      "SRR824843.789869\tchr1\t100\t0\t40\t1\t15389\tchr1\t4022729\t1\t40\t4015420\t4022778\r\n",
      "SRR824843.6711833\tchr1\t100\t0\t40\t1\t15389\tchr1\t4027346\t0\t29\t4027319\t4032534\r\n",
      "SRR824843.12347017\tchr1\t100\t0\t40\t1\t15389\tchr1\t4027457\t0\t40\t4027319\t4032534\r\n",
      "SRR824843.2903606\tchr1\t100\t0\t40\t1\t15389\tchr1\t4032385\t1\t40\t4027319\t4032534\r\n",
      "SRR824843.13584319\tchr1\t100\t0\t40\t1\t15389\tchr1\t4036837\t0\t40\t4036792\t4039543\r\n",
      "SRR824843.405836\tchr1\t100\t0\t40\t1\t15389\tchr1\t4039595\t0\t40\t4039543\t4042738\r\n",
      "SRR824843.11636104\tchr1\t100\t0\t40\t1\t15389\tchr1\t4039602\t0\t40\t4039543\t4042738\r\n",
      "SRR824843.14693999\tchr1\t100\t0\t40\t1\t15389\tchr1\t4042606\t1\t40\t4039543\t4042738\r\n",
      "SRR824843.16837495\tchr1\t100\t0\t40\t1\t15389\tchr1\t4042626\t1\t40\t4039543\t4042738\r\n",
      "SRR824843.14174556\tchr1\t100\t0\t40\t1\t15389\tchr1\t4042705\t1\t40\t4039543\t4042738\r\n",
      "SRR824843.4105774\tchr1\t100\t0\t40\t1\t15389\tchr1\t4042705\t1\t40\t4039543\t4042738\r\n",
      "SRR824843.1363902\tchr1\t100\t0\t40\t1\t15389\tchr1\t4042713\t1\t30\t4039543\t4042738\r\n",
      "SRR824843.5352995\tchr1\t100\t0\t40\t1\t15389\tchr1\t4042730\t1\t40\t4039543\t4042738\r\n",
      "SRR824843.100010#3/3\tchr1\t100\t0\t40\t1\t15389\tchr1\t4042737\t1\t19\t4039543\t4042738\r\n",
      "SRR824843.11299089#3/3\tchr1\t100\t0\t40\t1\t15389\tchr1\t4042737\t1\t21\t4039543\t4042738\r\n",
      "SRR824843.13173394\tchr1\t100\t0\t40\t1\t15389\tchr1\t4042737\t1\t28\t4039543\t4042738\r\n",
      "SRR824843.13700911#3/3\tchr1\t100\t0\t40\t1\t15389\tchr1\t4042737\t1\t18\t4039543\t4042738\r\n",
      "SRR824843.14243897\tchr1\t100\t0\t40\t1\t15389\tchr1\t4042737\t1\t29\t4039543\t4042738\r\n",
      "SRR824843.14377010\tchr1\t100\t0\t40\t1\t15389\tchr1\t4042737\t1\t28\t4039543\t4042738\r\n",
      "SRR824843.14894416\tchr1\t100\t0\t40\t1\t15389\tchr1\t4042737\t1\t29\t4039543\t4042738\r\n",
      "SRR824843.16363816\tchr1\t100\t0\t40\t1\t15389\tchr1\t4042737\t1\t33\t4039543\t4042738\r\n",
      "SRR824843.17348019#3/3\tchr1\t100\t0\t40\t1\t15389\tchr1\t4042737\t1\t18\t4039543\t4042738\r\n",
      "SRR824843.3372566\tchr1\t100\t0\t40\t1\t15389\tchr1\t4042737\t1\t29\t4039543\t4042738\r\n",
      "SRR824843.3959063\tchr1\t100\t0\t40\t1\t15389\tchr1\t4042737\t1\t28\t4039543\t4042738\r\n",
      "SRR824843.5767423\tchr1\t100\t0\t40\t1\t15389\tchr1\t4042737\t1\t29\t4039543\t4042738\r\n",
      "SRR824843.6175599\tchr1\t100\t0\t40\t1\t15389\tchr1\t4042737\t1\t28\t4039543\t4042738\r\n",
      "SRR824843.6497376#3/3\tchr1\t100\t0\t40\t1\t15389\tchr1\t4042737\t1\t21\t4039543\t4042738\r\n",
      "SRR824843.8552435#3/3\tchr1\t100\t0\t40\t1\t15389\tchr1\t4042737\t1\t21\t4039543\t4042738\r\n",
      "SRR824843.9110970#3/3\tchr1\t100\t0\t40\t1\t15389\tchr1\t4042737\t1\t19\t4039543\t4042738\r\n",
      "SRR824843.11442936\tchr1\t100\t0\t40\t1\t15389\tchr1\t4042738\t1\t40\t4042738\t4042929\r\n",
      "SRR824843.14401192\tchr1\t100\t0\t40\t1\t15389\tchr1\t4042738\t1\t40\t4042738\t4042929\r\n",
      "SRR824843.14451970\tchr1\t100\t0\t40\t1\t15389\tchr1\t4042738\t1\t40\t4042738\t4042929\r\n",
      "SRR824843.17170021\tchr1\t100\t0\t40\t1\t15389\tchr1\t4042738\t1\t40\t4042738\t4042929\r\n",
      "SRR824843.2011045\tchr1\t100\t0\t40\t1\t15389\tchr1\t4042738\t1\t40\t4042738\t4042929\r\n",
      "SRR824843.2047295\tchr1\t100\t0\t40\t1\t15389\tchr1\t4042738\t1\t40\t4042738\t4042929\r\n",
      "SRR824843.3557465\tchr1\t100\t0\t40\t1\t15389\tchr1\t4042738\t1\t40\t4042738\t4042929\r\n",
      "SRR824843.449198\tchr1\t100\t0\t40\t1\t15389\tchr1\t4042738\t1\t40\t4042738\t4042929\r\n",
      "SRR824843.6074178\tchr1\t100\t0\t40\t1\t15389\tchr1\t4042738\t1\t40\t4042738\t4042929\r\n",
      "SRR824843.699942\tchr1\t100\t0\t40\t1\t15389\tchr1\t4042738\t1\t40\t4042738\t4042929\r\n",
      "SRR824843.7417085\tchr1\t100\t0\t40\t1\t15389\tchr1\t4042738\t1\t40\t4042738\t4042929\r\n",
      "SRR824843.808390\tchr1\t100\t0\t40\t1\t15389\tchr1\t4042738\t1\t40\t4042738\t4042929\r\n",
      "SRR824843.8400436\tchr1\t100\t0\t40\t1\t15389\tchr1\t4042738\t1\t40\t4042738\t4042929\r\n",
      "SRR824843.9815423\tchr1\t100\t0\t40\t1\t15389\tchr1\t494956\t1\t40\t491746\t495083\r\n",
      "SRR824843.8552435#2/3\tchr1\t100\t0\t40\t1\t15389\tchr1\t85902\t1\t21\t82739\t85918\r\n",
      "SRR824843.13700911#2/3\tchr1\t100\t0\t40\t1\t15389\tchr1\t88663\t0\t24\t88641\t90060\r\n",
      "SRR824843.17348019#2/3\tchr1\t100\t0\t40\t1\t15389\tchr1\t88663\t0\t24\t88641\t90060\r\n",
      "SRR824843.6103906\tchr1\t1002\t1\t40\t1\t15389\tchr1\t1298\t0\t40\t1\t15389\r\n",
      "SRR824843.2462333\tchr1\t101\t0\t40\t1\t15389\tchr1\t1567524\t1\t40\t1563747\t1567647\r\n",
      "SRR824843.8082177\tchr1\t101\t0\t40\t1\t15389\tchr1\t1567524\t1\t40\t1563747\t1567647\r\n",
      "SRR824843.10141065\tchr1\t101\t0\t40\t1\t15389\tchr1\t158889\t0\t40\t158818\t168136\r\n",
      "SRR824843.14214914\tchr1\t101\t0\t40\t1\t15389\tchr1\t171743\t0\t24\t171721\t171897\r\n",
      "SRR824843.14482415\tchr1\t101\t0\t40\t1\t15389\tchr1\t171743\t0\t24\t171721\t171897\r\n",
      "SRR824843.2319366\tchr1\t101\t0\t40\t1\t15389\tchr1\t1805799\t1\t40\t1799302\t1805917\r\n",
      "SRR824843.13970962\tchr1\t101\t0\t40\t1\t15389\tchr1\t1931546\t1\t40\t1926966\t1931589\r\n",
      "SRR824843.2974444\tchr1\t101\t0\t40\t1\t15389\tchr1\t2026144\t1\t40\t2009521\t2026179\r\n",
      "SRR824843.6953258\tchr1\t101\t0\t40\t1\t15389\tchr1\t23965\t1\t33\t19394\t23999\r\n",
      "SRR824843.13356588\tchr1\t101\t0\t40\t1\t15389\tchr1\t2646914\t1\t40\t2642436\t2646973\r\n",
      "SRR824843.4724500\tchr1\t101\t0\t40\t1\t15389\tchr1\t2728053\t0\t40\t2727938\t2738838\r\n",
      "SRR824843.8979968\tchr1\t101\t0\t40\t1\t15389\tchr1\t291459\t1\t40\t286833\t291587\r\n",
      "SRR824843.5195230\tchr1\t101\t0\t40\t1\t15389\tchr1\t3036338\t1\t40\t3033632\t3036430\r\n",
      "SRR824843.15548333\tchr1\t101\t0\t40\t1\t15389\tchr1\t3320316\t1\t40\t3312767\t3320396\r\n",
      "SRR824843.14552227\tchr1\t101\t0\t40\t1\t15389\tchr1\t3363230\t0\t30\t3363202\t3364467\r\n",
      "SRR824843.10253038\tchr1\t101\t0\t40\t1\t15389\tchr1\t36114\t0\t25\t36085\t40825\r\n",
      "SRR824843.7558139\tchr1\t101\t0\t40\t1\t15389\tchr1\t36114\t0\t31\t36085\t40825\r\n",
      "SRR824843.670729\tchr1\t101\t0\t40\t1\t15389\tchr1\t3745080\t0\t40\t3744943\t3747077\r\n",
      "SRR824843.5626108\tchr1\t101\t0\t40\t1\t15389\tchr1\t3879095\t0\t30\t3879067\t3885301\r\n",
      "SRR824843.9564872\tchr1\t101\t0\t40\t1\t15389\tchr1\t3879095\t0\t30\t3879067\t3885301\r\n",
      "SRR824843.13199431\tchr1\t101\t0\t40\t1\t15389\tchr1\t3879273\t0\t40\t3879067\t3885301\r\n",
      "SRR824843.14717841\tchr1\t101\t0\t40\t1\t15389\tchr1\t3879273\t0\t40\t3879067\t3885301\r\n",
      "SRR824843.5215843\tchr1\t101\t0\t40\t1\t15389\tchr1\t3902494\t0\t40\t3902343\t3903441\r\n",
      "SRR824843.14187062\tchr1\t101\t0\t40\t1\t15389\tchr1\t4002510\t1\t40\t4001137\t4002582\r\n",
      "SRR824843.15510715\tchr1\t101\t0\t40\t1\t15389\tchr1\t4002510\t1\t40\t4001137\t4002582\r\n",
      "SRR824843.10511083\tchr1\t101\t0\t40\t1\t15389\tchr1\t4026196\t0\t40\t4026143\t4027319\r\n",
      "SRR824843.16427253\tchr1\t101\t0\t40\t1\t15389\tchr1\t4026280\t0\t40\t4026143\t4027319\r\n",
      "SRR824843.5848029\tchr1\t101\t0\t40\t1\t15389\tchr1\t4032587\t0\t40\t4032534\t4033916\r\n",
      "SRR824843.5932362\tchr1\t101\t0\t40\t1\t15389\tchr1\t4032587\t0\t40\t4032534\t4033916\r\n",
      "SRR824843.6033533\tchr1\t101\t0\t40\t1\t15389\tchr1\t4032587\t0\t40\t4032534\t4033916\r\n",
      "SRR824843.7020291\tchr1\t101\t0\t40\t1\t15389\tchr1\t4036694\t1\t40\t4033916\t4036792\r\n",
      "SRR824843.12451046\tchr1\t101\t0\t40\t1\t15389\tchr1\t4039587\t0\t40\t4039543\t4042738\r\n",
      "SRR824843.15460302\tchr1\t101\t0\t40\t1\t15389\tchr1\t4042627\t1\t40\t4039543\t4042738\r\n",
      "SRR824843.1928649\tchr1\t101\t0\t40\t1\t15389\tchr1\t4042627\t1\t40\t4039543\t4042738\r\n",
      "SRR824843.15812637\tchr1\t101\t0\t40\t1\t15389\tchr1\t4042668\t1\t40\t4039543\t4042738\r\n",
      "SRR824843.2213362\tchr1\t101\t0\t40\t1\t15389\tchr1\t4042668\t1\t40\t4039543\t4042738\r\n",
      "SRR824843.6022502\tchr1\t101\t0\t40\t1\t15389\tchr1\t4042668\t1\t40\t4039543\t4042738\r\n",
      "SRR824843.1855563\tchr1\t101\t0\t40\t1\t15389\tchr1\t4042704\t1\t40\t4039543\t4042738\r\n",
      "SRR824843.2874690\tchr1\t101\t0\t40\t1\t15389\tchr1\t4042706\t1\t40\t4039543\t4042738\r\n",
      "SRR824843.17264442\tchr1\t101\t0\t40\t1\t15389\tchr1\t4042717\t1\t40\t4039543\t4042738\r\n",
      "SRR824843.3650217\tchr1\t101\t0\t40\t1\t15389\tchr1\t4042734\t1\t40\t4039543\t4042738\r\n",
      "SRR824843.10077516\tchr1\t101\t0\t40\t1\t15389\tchr1\t4042737\t1\t24\t4039543\t4042738\r\n",
      "SRR824843.10516971\tchr1\t101\t0\t40\t1\t15389\tchr1\t4042737\t1\t35\t4039543\t4042738\r\n",
      "SRR824843.14105828\tchr1\t101\t0\t40\t1\t15389\tchr1\t4042737\t1\t26\t4039543\t4042738\r\n",
      "SRR824843.15319553\tchr1\t101\t0\t40\t1\t15389\tchr1\t4042737\t1\t26\t4039543\t4042738\r\n",
      "SRR824843.15444255\tchr1\t101\t0\t40\t1\t15389\tchr1\t4042737\t1\t26\t4039543\t4042738\r\n",
      "SRR824843.16057398\tchr1\t101\t0\t40\t1\t15389\tchr1\t4042737\t1\t26\t4039543\t4042738\r\n",
      "SRR824843.4207334\tchr1\t101\t0\t40\t1\t15389\tchr1\t4042737\t1\t22\t4039543\t4042738\r\n",
      "SRR824843.10529841\tchr1\t101\t0\t40\t1\t15389\tchr1\t4042738\t1\t40\t4042738\t4042929\r\n",
      "SRR824843.10601706\tchr1\t101\t0\t40\t1\t15389\tchr1\t4042738\t1\t40\t4042738\t4042929\r\n",
      "SRR824843.10619776\tchr1\t101\t0\t40\t1\t15389\tchr1\t4042738\t1\t40\t4042738\t4042929\r\n",
      "SRR824843.10753740\tchr1\t101\t0\t40\t1\t15389\tchr1\t4042738\t1\t40\t4042738\t4042929\r\n",
      "SRR824843.11290651\tchr1\t101\t0\t40\t1\t15389\tchr1\t4042738\t1\t40\t4042738\t4042929\r\n",
      "SRR824843.11813252\tchr1\t101\t0\t40\t1\t15389\tchr1\t4042738\t1\t40\t4042738\t4042929\r\n",
      "SRR824843.12851978\tchr1\t101\t0\t40\t1\t15389\tchr1\t4042738\t1\t40\t4042738\t4042929\r\n",
      "SRR824843.1391827\tchr1\t101\t0\t40\t1\t15389\tchr1\t4042738\t1\t40\t4042738\t4042929\r\n",
      "SRR824843.14596493\tchr1\t101\t0\t40\t1\t15389\tchr1\t4042738\t1\t40\t4042738\t4042929\r\n",
      "SRR824843.14689350\tchr1\t101\t0\t40\t1\t15389\tchr1\t4042738\t1\t40\t4042738\t4042929\r\n",
      "SRR824843.14699184\tchr1\t101\t0\t40\t1\t15389\tchr1\t4042738\t1\t40\t4042738\t4042929\r\n",
      "SRR824843.14857594\tchr1\t101\t0\t40\t1\t15389\tchr1\t4042738\t1\t40\t4042738\t4042929\r\n",
      "SRR824843.15407511\tchr1\t101\t0\t40\t1\t15389\tchr1\t4042738\t1\t40\t4042738\t4042929\r\n",
      "SRR824843.16508986\tchr1\t101\t0\t40\t1\t15389\tchr1\t4042738\t1\t40\t4042738\t4042929\r\n",
      "SRR824843.16622246\tchr1\t101\t0\t40\t1\t15389\tchr1\t4042738\t1\t40\t4042738\t4042929\r\n",
      "SRR824843.1932350\tchr1\t101\t0\t40\t1\t15389\tchr1\t4042738\t1\t40\t4042738\t4042929\r\n",
      "SRR824843.2582748\tchr1\t101\t0\t40\t1\t15389\tchr1\t4042738\t1\t40\t4042738\t4042929\r\n",
      "SRR824843.2774624\tchr1\t101\t0\t40\t1\t15389\tchr1\t4042738\t1\t40\t4042738\t4042929\r\n",
      "SRR824843.4118580\tchr1\t101\t0\t40\t1\t15389\tchr1\t4042738\t1\t40\t4042738\t4042929\r\n",
      "SRR824843.5234123\tchr1\t101\t0\t40\t1\t15389\tchr1\t4042738\t1\t40\t4042738\t4042929\r\n"
     ]
    }
   ],
   "source": [
    "! head -n 150 $reads\n",
    "# read ID        Chromosome1 pos1  strand1  length1 RE_left1 RE_right1 Chromosome2 pos2 strand2 length2 RE_left2 RE_right2"
   ]
  },
  {
   "cell_type": "markdown",
   "metadata": {
    "deletable": true,
    "editable": true
   },
   "source": [
    "## Create simple interactions network for each fragment"
   ]
  },
  {
   "cell_type": "code",
   "execution_count": 3,
   "metadata": {
    "collapsed": false,
    "deletable": true,
    "editable": true
   },
   "outputs": [],
   "source": [
    "fh = open(reads)\n",
    "fh.next()\n",
    "dico ={}\n",
    "for line in fh:\n",
    "    _, c1, p1, s1, l1, rel1, rer1, c2, p2, s2, l2, rel2, rer2 = line.split()\n",
    "    \n",
    "    try:\n",
    "        dico[(rel1, rer1)][(rel2, rer2)] += 1\n",
    "    except KeyError:\n",
    "        try:\n",
    "            dico[(rel1, rer1)][(rel2, rer2)] = 1\n",
    "        except KeyError:\n",
    "            dico[(rel1, rer1)] = dict()\n",
    "            dico[(rel1, rer1)][(rel2, rer2)] = 1\n",
    "    try:\n",
    "        dico[(rel2, rer2)][(rel1, rer1)] += 1\n",
    "    except KeyError:\n",
    "        try:\n",
    "            dico[(rel2, rer2)][(rel1, rer1)] = 1\n",
    "        except KeyError:\n",
    "            dico[(rel2, rer2)] = dict()\n",
    "            dico[(rel2, rer2)][(rel1, rer1)] = 1            "
   ]
  },
  {
   "cell_type": "code",
   "execution_count": 9,
   "metadata": {
    "collapsed": false,
    "deletable": true,
    "editable": true
   },
   "outputs": [
    {
     "data": {
      "text/plain": [
       "[(('1', '15389'), 5995),\n",
       " (('15389', '19394'), 4880),\n",
       " (('19394', '23999'), 2939),\n",
       " (('28513', '32206'), 624),\n",
       " (('4039543', '4042738'), 605)]"
      ]
     },
     "execution_count": 9,
     "metadata": {},
     "output_type": "execute_result"
    }
   ],
   "source": [
    "sorted(dico[('15389', '19394')].items(), key=lambda x: x[1], reverse=True)[:5]"
   ]
  },
  {
   "cell_type": "markdown",
   "metadata": {},
   "source": [
    "#### List of RE fragments sorted by genomic position"
   ]
  },
  {
   "cell_type": "code",
   "execution_count": 7,
   "metadata": {
    "collapsed": false
   },
   "outputs": [],
   "source": [
    "sorted_frags = sorted(dico.keys(), key=lambda x: int(x[0]))"
   ]
  },
  {
   "cell_type": "markdown",
   "metadata": {},
   "source": [
    "#### Count the number of times that the two RE-fragments with less genomic distance are also the two RE-fragments with more interactions"
   ]
  },
  {
   "cell_type": "code",
   "execution_count": 38,
   "metadata": {
    "collapsed": false
   },
   "outputs": [],
   "source": [
    "count = 0\n",
    "for i, k in enumerate(sorted_frags[1:-1], 1):\n",
    "    top = sorted(dico[k], key=lambda x: dico[k][x], reverse=True)[:3]\n",
    "    if sorted(top) == sorted(sorted_frags[i-1:i+2]):\n",
    "        count += 1"
   ]
  },
  {
   "cell_type": "code",
   "execution_count": 39,
   "metadata": {
    "collapsed": false
   },
   "outputs": [
    {
     "name": "stdout",
     "output_type": "stream",
     "text": [
      "Percentage of RE fragments connected to closest neigbhors: 82.4%\n"
     ]
    }
   ],
   "source": [
    "print 'Percentage of RE fragments connected to closest neigbhors: %.1f%%' % (float(count)/(len(sorted_frags) - 1) * 100)"
   ]
  },
  {
   "cell_type": "code",
   "execution_count": null,
   "metadata": {
    "collapsed": true
   },
   "outputs": [],
   "source": []
  }
 ],
 "metadata": {
  "celltoolbar": "Raw Cell Format",
  "kernelspec": {
   "display_name": "Python 2",
   "language": "python",
   "name": "python2"
  },
  "language_info": {
   "codemirror_mode": {
    "name": "ipython",
    "version": 2
   },
   "file_extension": ".py",
   "mimetype": "text/x-python",
   "name": "python",
   "nbconvert_exporter": "python",
   "pygments_lexer": "ipython2",
   "version": "2.7.13"
  }
 },
 "nbformat": 4,
 "nbformat_minor": 2
}
