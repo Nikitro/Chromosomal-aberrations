{
 "cells": [
  {
   "cell_type": "code",
   "execution_count": null,
   "metadata": {
    "collapsed": true
   },
   "outputs": [],
   "source": [
    "reads ='/home/nikita/Projects/Chromosomal_aberrations/results_dupl/Caulobacter_BglII_replicate1_dupl/03_filtering/reads12.tsv'"
   ]
  },
  {
   "cell_type": "code",
   "execution_count": null,
   "metadata": {
    "collapsed": true
   },
   "outputs": [],
   "source": [
    "from pytadbit.parsers.hic_parser import load_hic_data_from_reads\n",
    "reso=10000"
   ]
  },
  {
   "cell_type": "code",
   "execution_count": null,
   "metadata": {
    "collapsed": true
   },
   "outputs": [],
   "source": [
    "hic_data = load_hic_data_from_reads(reads,  reso)\n",
    "matrix = hic_data.get_matrix(focus=None, diagonal=True, normalized=False)"
   ]
  },
  {
   "cell_type": "code",
   "execution_count": null,
   "metadata": {
    "collapsed": true
   },
   "outputs": [],
   "source": [
    "len(matrix[0])\n",
    "import matplotlib.pyplot as plt"
   ]
  },
  {
   "cell_type": "code",
   "execution_count": null,
   "metadata": {
    "collapsed": true
   },
   "outputs": [],
   "source": [
    "nrows = 400\n",
    "\n",
    "plt.figure(figsize=(12, 200))\n",
    "for k in xrange(nrows):\n",
    "    dist = []\n",
    "    for d in xrange(1, len(matrix)/2):\n",
    "        if k - d >= 0 and k         + d < len(matrix):    \n",
    "            summ = matrix[k][k-d]   + matrix[k][k+d] \n",
    "        elif k + d < len(matrix):                     \n",
    "            summ = matrix[k][k-d]   + matrix[k][k+d] \n",
    "        elif k - d >= 0:                         \n",
    "            summ = matrix[k][k-d]   + matrix[k][k+d-len(matrix)]\n",
    "        else:                                   \n",
    "            summ = matrix[k][k-d]   + matrix[k][k+d-len(matrix)]\n",
    "                           \n",
    "        \n",
    "        dist.append(summ)\n",
    "    plt.subplot(nrows, 1, k + 1)\n",
    "    plt.plot(dist, alpha=1)\n",
    "    plt.grid()\n",
    "    plt.ylabel(k)\n",
    "plt.show()"
   ]
  }
 ],
 "metadata": {
  "kernelspec": {
   "display_name": "Python 2",
   "language": "python",
   "name": "python2"
  },
  "language_info": {
   "codemirror_mode": {
    "name": "ipython",
    "version": 2
   },
   "file_extension": ".py",
   "mimetype": "text/x-python",
   "name": "python",
   "nbconvert_exporter": "python",
   "pygments_lexer": "ipython2",
   "version": "2.7.13"
  }
 },
 "nbformat": 4,
 "nbformat_minor": 2
}
