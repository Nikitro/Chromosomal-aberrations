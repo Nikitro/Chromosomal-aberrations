{
 "cells": [
  {
   "cell_type": "markdown",
   "metadata": {},
   "source": [
    "## Load sequence from FASTA file"
   ]
  },
  {
   "cell_type": "code",
   "execution_count": 9,
   "metadata": {
    "collapsed": true,
    "deletable": true,
    "editable": true
   },
   "outputs": [],
   "source": [
    "f_name=('/home/nikita/Projects/Chromosomal_aberrations/data/genome/Caulobacter_crescentus/Caulobacter_NA1000.fa')"
   ]
  },
  {
   "cell_type": "code",
   "execution_count": 10,
   "metadata": {
    "collapsed": true,
    "deletable": true,
    "editable": true
   },
   "outputs": [],
   "source": [
    "seq=\"\""
   ]
  },
  {
   "cell_type": "code",
   "execution_count": 11,
   "metadata": {
    "collapsed": false,
    "deletable": true,
    "editable": true
   },
   "outputs": [],
   "source": [
    "for line in open (f_name):\n",
    "    if line.startswith(\">\"):\n",
    "        continue\n",
    "    seq+=line.strip()"
   ]
  },
  {
   "cell_type": "markdown",
   "metadata": {},
   "source": [
    "## Generate abnormalities"
   ]
  },
  {
   "cell_type": "markdown",
   "metadata": {},
   "source": [
    "### Translocation"
   ]
  },
  {
   "cell_type": "code",
   "execution_count": 90,
   "metadata": {
    "collapsed": true,
    "deletable": true,
    "editable": true
   },
   "outputs": [],
   "source": [
    "seq_trans=seq[0:500000]+seq[550000:2000000]+seq[500000:550000]+seq[2000000:]"
   ]
  },
  {
   "cell_type": "markdown",
   "metadata": {},
   "source": [
    "### Deletion"
   ]
  },
  {
   "cell_type": "code",
   "execution_count": 15,
   "metadata": {
    "collapsed": false,
    "deletable": true,
    "editable": true
   },
   "outputs": [],
   "source": [
    "seq_del=seq[0:500000]+seq[600000:2000000]+seq[2000000:]"
   ]
  },
  {
   "cell_type": "markdown",
   "metadata": {},
   "source": [
    "### Duplication"
   ]
  },
  {
   "cell_type": "code",
   "execution_count": 12,
   "metadata": {
    "collapsed": true,
    "deletable": true,
    "editable": true
   },
   "outputs": [],
   "source": [
    "seq_dupl=seq[0:500000]+seq[500000:550000]+seq[500000:550000]+seq[550000:]"
   ]
  },
  {
   "cell_type": "code",
   "execution_count": 88,
   "metadata": {
    "collapsed": false,
    "deletable": true,
    "editable": true
   },
   "outputs": [
    {
     "name": "stdout",
     "output_type": "stream",
     "text": [
      "4042929\n"
     ]
    }
   ],
   "source": [
    "print len(seq)"
   ]
  },
  {
   "cell_type": "code",
   "execution_count": 50,
   "metadata": {
    "collapsed": false,
    "deletable": true,
    "editable": true
   },
   "outputs": [
    {
     "name": "stdout",
     "output_type": "stream",
     "text": [
      "4042929\n"
     ]
    }
   ],
   "source": [
    "print len(seq_trans)"
   ]
  },
  {
   "cell_type": "markdown",
   "metadata": {},
   "source": [
    "### Inversion"
   ]
  },
  {
   "cell_type": "code",
   "execution_count": 81,
   "metadata": {
    "collapsed": true,
    "deletable": true,
    "editable": true
   },
   "outputs": [],
   "source": [
    "complement = {'A': 'T', 'C': 'G', 'G': 'C', 'T': 'A'}\n",
    "seq_inversion = seq\n",
    "reverse_complement = \"\".join(complement.get(base) for base in reversed(seq_inversion[1000000:1500000]))"
   ]
  },
  {
   "cell_type": "code",
   "execution_count": 82,
   "metadata": {
    "collapsed": true,
    "deletable": true,
    "editable": true
   },
   "outputs": [],
   "source": [
    "seq_inversion_complete=seq[0:1000000]+reverse_complement+seq[1500000:]"
   ]
  },
  {
   "cell_type": "code",
   "execution_count": 83,
   "metadata": {
    "collapsed": false,
    "deletable": true,
    "editable": true
   },
   "outputs": [
    {
     "name": "stdout",
     "output_type": "stream",
     "text": [
      "TCTGCTTCATCATTGACCGCGCCAAGGACATGCTGATCCGGGGCGGCGAGAACATCTACTGCATCGAGGTCGAGAACTGCCTCTATGACCACCCGGCGGT\n"
     ]
    }
   ],
   "source": [
    "print seq[1500000-100:1500000]"
   ]
  },
  {
   "cell_type": "code",
   "execution_count": 84,
   "metadata": {
    "collapsed": false,
    "deletable": true,
    "editable": true
   },
   "outputs": [
    {
     "name": "stdout",
     "output_type": "stream",
     "text": [
      "ACCGCCGGGTGGTCATAGAGGCAGTTCTCGACCTCGATGCAGTAGATGTTCTCGCCGCCCCGGATCAGCATGTCCTTGGCGCGGTCAATGATGAAGCAGA\n"
     ]
    }
   ],
   "source": [
    "print seq_inversion_complete[1000000:1000100]"
   ]
  },
  {
   "cell_type": "markdown",
   "metadata": {},
   "source": [
    "## Save to FASTA file"
   ]
  },
  {
   "cell_type": "code",
   "execution_count": 91,
   "metadata": {
    "collapsed": false,
    "deletable": true,
    "editable": true
   },
   "outputs": [],
   "source": [
    "out=open(\"Translo.fa\",\"w\")\n",
    "out.write(\">chr1\\n\")\n",
    "for i in range (0, len(seq_trans), 70):\n",
    "    out.write(seq_trans[i:i+70])\n",
    "    out.write(\"\\n\")\n",
    "out.close()"
   ]
  },
  {
   "cell_type": "code",
   "execution_count": 16,
   "metadata": {
    "collapsed": true,
    "deletable": true,
    "editable": true
   },
   "outputs": [],
   "source": [
    "out=open(\"Deletion2.fa\",\"w\")\n",
    "out.write(\">chr1\\n\")\n",
    "for i in range (0, len(seq_del), 70):\n",
    "    out.write(seq_del[i:i+70])\n",
    "    out.write(\"\\n\")\n",
    "out.close()"
   ]
  },
  {
   "cell_type": "code",
   "execution_count": 13,
   "metadata": {
    "collapsed": true,
    "deletable": true,
    "editable": true
   },
   "outputs": [],
   "source": [
    "out=open(\"Duplication.fa\",\"w\")\n",
    "out.write(\">chr1\\n\")\n",
    "for i in range (0, len(seq_dupl), 70):\n",
    "    out.write(seq_dupl[i:i+70])\n",
    "    out.write(\"\\n\")\n",
    "out.close()"
   ]
  },
  {
   "cell_type": "code",
   "execution_count": 29,
   "metadata": {
    "collapsed": false,
    "deletable": true,
    "editable": true
   },
   "outputs": [
    {
     "name": "stdout",
     "output_type": "stream",
     "text": [
      ">chr1\r\n",
      "GAATTCTTAACGTCCTGAGACACGACAGCGACCTCTGACCGGACTCGTTCCGCGTCTTTGGACAATCGGG\r\n",
      "ATTCAGACTTCGGGGGATGCGGCGCAGGCTTGGGGATGATAGGCGAGCAATGCGACCGTTGATCACAGCG\r\n",
      "GCGCCGTGTCACGACGCTGTTGGGGCCGTTCGGCGCCCGGGCGTCCCCAGAGGCAGGGCAAGTGGTTAAG\r\n",
      "CAACCGTTAACGGATGATCCACAGGAGAGTCTGGCGCAGGGCGAGAGCGAAAGGCTGCCGCCACGCTTCG\r\n",
      "CCACCTACTTCCATATCCACTTGGTTTCAGACTCCACAGGCGAGACGCTGAACGCGATGGCGCGGGCGGT\r\n",
      "GTGCGCGCGGTTCACCGACATTCTGCCGATCGAGCACATCTATGCGCTGGTGCGGTCGACCCGGCAGTTG\r\n",
      "GATCGCGCGTTGGAAGAGATCGCCGGTGCGCCGGGCGTGGTGATGCACACGATCGTTGACCCTGGCCTCC\r\n",
      "GCGCAGCCCTCGAGGAAGGCTGCCGCAAGCTGGAAATGCCCTGCATCGCCGCGCTGGATCCGGTGATCAG\r\n",
      "CGCCATGTCCCGTTATCTGGGCGCGCGGATCTCGACCCGCGTCGGCGCCCAGCACGCCCTGACCAATGAC\r\n"
     ]
    }
   ],
   "source": [
    "! head inversion.fasta"
   ]
  }
 ],
 "metadata": {
  "kernelspec": {
   "display_name": "Python 2",
   "language": "python",
   "name": "python2"
  },
  "language_info": {
   "codemirror_mode": {
    "name": "ipython",
    "version": 2
   },
   "file_extension": ".py",
   "mimetype": "text/x-python",
   "name": "python",
   "nbconvert_exporter": "python",
   "pygments_lexer": "ipython2",
   "version": "2.7.13"
  }
 },
 "nbformat": 4,
 "nbformat_minor": 2
}
